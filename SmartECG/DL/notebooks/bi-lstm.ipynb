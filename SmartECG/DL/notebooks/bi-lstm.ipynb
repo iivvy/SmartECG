{
 "metadata": {
  "kernelspec": {
   "language": "python",
   "display_name": "Python 3",
   "name": "python3"
  },
  "language_info": {
   "name": "python",
   "version": "3.7.12",
   "mimetype": "text/x-python",
   "codemirror_mode": {
    "name": "ipython",
    "version": 3
   },
   "pygments_lexer": "ipython3",
   "nbconvert_exporter": "python",
   "file_extension": ".py"
  }
 },
 "nbformat_minor": 4,
 "nbformat": 4,
 "cells": [
  {
   "cell_type": "code",
   "source": [
    "import pandas as pd\n",
    "# noinspection PyUnresolvedReferences\n",
    "import tensorflow.keras as tk\n",
    "# noinspection PyUnresolvedReferences\n",
    "import tensorflow.keras.layers as l\n",
    "from sklearn.metrics import confusion_matrix, classification_report, ConfusionMatrixDisplay\n",
    "# noinspection PyUnresolvedReferences\n",
    "from tensorflow.keras.backend import clear_session\n",
    "# noinspection PyUnresolvedReferences\n",
    "from tensorflow.keras.models import clone_model\n",
    "# noinspection PyUnresolvedReferences\n",
    "from tensorflow.keras.utils import to_categorical"
   ],
   "metadata": {
    "_uuid": "8f2839f25d086af736a60e9eeb907d3b93b6e0e5",
    "_cell_guid": "b1076dfc-b9ad-4769-8c92-a6c4dae69d19",
    "id": "mU-LH25oo2tL",
    "execution": {
     "iopub.status.busy": "2023-05-03T07:55:31.038404Z",
     "iopub.execute_input": "2023-05-03T07:55:31.038702Z",
     "iopub.status.idle": "2023-05-03T07:55:40.540078Z",
     "shell.execute_reply.started": "2023-05-03T07:55:31.038673Z",
     "shell.execute_reply": "2023-05-03T07:55:40.538831Z"
    },
    "trusted": true,
    "ExecuteTime": {
     "end_time": "2023-05-03T08:07:44.662710300Z",
     "start_time": "2023-05-03T08:07:44.641539400Z"
    }
   },
   "execution_count": 27,
   "outputs": []
  },
  {
   "cell_type": "code",
   "source": [
    "from utils import sub_percentage_of, plot_accuracy_and_loss, plot_categorical_distribution_with_percentage"
   ],
   "metadata": {
    "execution": {
     "iopub.status.busy": "2023-05-03T07:55:45.325046Z",
     "iopub.execute_input": "2023-05-03T07:55:45.325805Z",
     "iopub.status.idle": "2023-05-03T07:55:45.559062Z",
     "shell.execute_reply.started": "2023-05-03T07:55:45.325766Z",
     "shell.execute_reply": "2023-05-03T07:55:45.558049Z"
    },
    "trusted": true,
    "ExecuteTime": {
     "end_time": "2023-05-03T07:58:18.849196900Z",
     "start_time": "2023-05-03T07:58:15.242482Z"
    }
   },
   "execution_count": 2,
   "outputs": []
  },
  {
   "cell_type": "code",
   "source": [
    "import os\n",
    "\n",
    "working_locally = not os.path.exists('/kaggle/working') and not os.path.exists('/content')"
   ],
   "metadata": {
    "collapsed": false,
    "jupyter": {
     "outputs_hidden": false
    },
    "execution": {
     "iopub.status.busy": "2023-05-03T07:55:45.794601Z",
     "iopub.execute_input": "2023-05-03T07:55:45.795297Z",
     "iopub.status.idle": "2023-05-03T07:55:45.801260Z",
     "shell.execute_reply.started": "2023-05-03T07:55:45.795259Z",
     "shell.execute_reply": "2023-05-03T07:55:45.799148Z"
    },
    "trusted": true,
    "ExecuteTime": {
     "end_time": "2023-05-03T07:58:18.865221200Z",
     "start_time": "2023-05-03T07:58:18.854203400Z"
    }
   },
   "execution_count": 3,
   "outputs": []
  },
  {
   "cell_type": "code",
   "source": [
    "if working_locally:\n",
    "    train_path = \"mitbih_train.csv\"\n",
    "    test_path = \"mitbih_test.csv\"\n",
    "else:\n",
    "    train_path = \"/kaggle/input/heartbeat/mitbih_train.csv\"\n",
    "    test_path = \"/kaggle/input/heartbeat/mitbih_test.csv\"\n",
    "\n",
    "train_df = pd.read_csv(train_path, header=None)\n",
    "test_df = pd.read_csv(test_path, header=None)\n",
    "\n",
    "test_df.index = test_df.index + train_df.shape[0]\n",
    "\n",
    "all_data = pd.concat([train_df, test_df])\n",
    "\n",
    "all_data.rename(columns={187: 'class'}, inplace=True)"
   ],
   "metadata": {
    "id": "mgHScVqlo2tN",
    "outputId": "40fd6a61-cbb1-49b7-865e-729f83759a01",
    "execution": {
     "iopub.status.busy": "2023-05-03T07:55:46.234867Z",
     "iopub.execute_input": "2023-05-03T07:55:46.235800Z",
     "iopub.status.idle": "2023-05-03T07:55:57.146140Z",
     "shell.execute_reply.started": "2023-05-03T07:55:46.235750Z",
     "shell.execute_reply": "2023-05-03T07:55:57.145065Z"
    },
    "trusted": true,
    "ExecuteTime": {
     "end_time": "2023-05-03T07:58:25.722919300Z",
     "start_time": "2023-05-03T07:58:18.872199600Z"
    }
   },
   "execution_count": 4,
   "outputs": []
  },
  {
   "cell_type": "code",
   "source": [
    "all_data"
   ],
   "metadata": {
    "execution": {
     "iopub.status.busy": "2023-05-03T07:55:57.148024Z",
     "iopub.execute_input": "2023-05-03T07:55:57.148393Z",
     "iopub.status.idle": "2023-05-03T07:55:57.192358Z",
     "shell.execute_reply.started": "2023-05-03T07:55:57.148355Z",
     "shell.execute_reply": "2023-05-03T07:55:57.191240Z"
    },
    "trusted": true,
    "ExecuteTime": {
     "end_time": "2023-05-03T07:58:25.835500400Z",
     "start_time": "2023-05-03T07:58:25.725919300Z"
    }
   },
   "execution_count": 5,
   "outputs": [
    {
     "data": {
      "text/plain": "               0         1         2         3         4         5         6  \\\n0       0.977941  0.926471  0.681373  0.245098  0.154412  0.191176  0.151961   \n1       0.960114  0.863248  0.461538  0.196581  0.094017  0.125356  0.099715   \n2       1.000000  0.659459  0.186486  0.070270  0.070270  0.059459  0.056757   \n3       0.925414  0.665746  0.541436  0.276243  0.196133  0.077348  0.071823   \n4       0.967136  1.000000  0.830986  0.586854  0.356808  0.248826  0.145540   \n...          ...       ...       ...       ...       ...       ...       ...   \n109441  0.928736  0.871264  0.804598  0.742529  0.650575  0.535632  0.394253   \n109442  0.802691  0.692078  0.587444  0.446936  0.318386  0.189836  0.118087   \n109443  1.000000  0.967359  0.620178  0.347181  0.139466  0.089021  0.103858   \n109444  0.984127  0.567460  0.607143  0.583333  0.607143  0.575397  0.575397   \n109445  0.973970  0.913232  0.865510  0.823210  0.746204  0.642082  0.547722   \n\n               7         8         9  ...  178  179  180  181  182  183  184  \\\n0       0.085784  0.058824  0.049020  ...  0.0  0.0  0.0  0.0  0.0  0.0  0.0   \n1       0.088319  0.074074  0.082621  ...  0.0  0.0  0.0  0.0  0.0  0.0  0.0   \n2       0.043243  0.054054  0.045946  ...  0.0  0.0  0.0  0.0  0.0  0.0  0.0   \n3       0.060773  0.066298  0.058011  ...  0.0  0.0  0.0  0.0  0.0  0.0  0.0   \n4       0.089202  0.117371  0.150235  ...  0.0  0.0  0.0  0.0  0.0  0.0  0.0   \n...          ...       ...       ...  ...  ...  ...  ...  ...  ...  ...  ...   \n109441  0.250575  0.140230  0.102299  ...  0.0  0.0  0.0  0.0  0.0  0.0  0.0   \n109442  0.077728  0.112108  0.152466  ...  0.0  0.0  0.0  0.0  0.0  0.0  0.0   \n109443  0.100890  0.106825  0.100890  ...  0.0  0.0  0.0  0.0  0.0  0.0  0.0   \n109444  0.488095  0.392857  0.238095  ...  0.0  0.0  0.0  0.0  0.0  0.0  0.0   \n109445  0.426247  0.325380  0.279826  ...  0.0  0.0  0.0  0.0  0.0  0.0  0.0   \n\n        185  186  class  \n0       0.0  0.0    0.0  \n1       0.0  0.0    0.0  \n2       0.0  0.0    0.0  \n3       0.0  0.0    0.0  \n4       0.0  0.0    0.0  \n...     ...  ...    ...  \n109441  0.0  0.0    4.0  \n109442  0.0  0.0    4.0  \n109443  0.0  0.0    4.0  \n109444  0.0  0.0    4.0  \n109445  0.0  0.0    4.0  \n\n[109446 rows x 188 columns]",
      "text/html": "<div>\n<style scoped>\n    .dataframe tbody tr th:only-of-type {\n        vertical-align: middle;\n    }\n\n    .dataframe tbody tr th {\n        vertical-align: top;\n    }\n\n    .dataframe thead th {\n        text-align: right;\n    }\n</style>\n<table border=\"1\" class=\"dataframe\">\n  <thead>\n    <tr style=\"text-align: right;\">\n      <th></th>\n      <th>0</th>\n      <th>1</th>\n      <th>2</th>\n      <th>3</th>\n      <th>4</th>\n      <th>5</th>\n      <th>6</th>\n      <th>7</th>\n      <th>8</th>\n      <th>9</th>\n      <th>...</th>\n      <th>178</th>\n      <th>179</th>\n      <th>180</th>\n      <th>181</th>\n      <th>182</th>\n      <th>183</th>\n      <th>184</th>\n      <th>185</th>\n      <th>186</th>\n      <th>class</th>\n    </tr>\n  </thead>\n  <tbody>\n    <tr>\n      <th>0</th>\n      <td>0.977941</td>\n      <td>0.926471</td>\n      <td>0.681373</td>\n      <td>0.245098</td>\n      <td>0.154412</td>\n      <td>0.191176</td>\n      <td>0.151961</td>\n      <td>0.085784</td>\n      <td>0.058824</td>\n      <td>0.049020</td>\n      <td>...</td>\n      <td>0.0</td>\n      <td>0.0</td>\n      <td>0.0</td>\n      <td>0.0</td>\n      <td>0.0</td>\n      <td>0.0</td>\n      <td>0.0</td>\n      <td>0.0</td>\n      <td>0.0</td>\n      <td>0.0</td>\n    </tr>\n    <tr>\n      <th>1</th>\n      <td>0.960114</td>\n      <td>0.863248</td>\n      <td>0.461538</td>\n      <td>0.196581</td>\n      <td>0.094017</td>\n      <td>0.125356</td>\n      <td>0.099715</td>\n      <td>0.088319</td>\n      <td>0.074074</td>\n      <td>0.082621</td>\n      <td>...</td>\n      <td>0.0</td>\n      <td>0.0</td>\n      <td>0.0</td>\n      <td>0.0</td>\n      <td>0.0</td>\n      <td>0.0</td>\n      <td>0.0</td>\n      <td>0.0</td>\n      <td>0.0</td>\n      <td>0.0</td>\n    </tr>\n    <tr>\n      <th>2</th>\n      <td>1.000000</td>\n      <td>0.659459</td>\n      <td>0.186486</td>\n      <td>0.070270</td>\n      <td>0.070270</td>\n      <td>0.059459</td>\n      <td>0.056757</td>\n      <td>0.043243</td>\n      <td>0.054054</td>\n      <td>0.045946</td>\n      <td>...</td>\n      <td>0.0</td>\n      <td>0.0</td>\n      <td>0.0</td>\n      <td>0.0</td>\n      <td>0.0</td>\n      <td>0.0</td>\n      <td>0.0</td>\n      <td>0.0</td>\n      <td>0.0</td>\n      <td>0.0</td>\n    </tr>\n    <tr>\n      <th>3</th>\n      <td>0.925414</td>\n      <td>0.665746</td>\n      <td>0.541436</td>\n      <td>0.276243</td>\n      <td>0.196133</td>\n      <td>0.077348</td>\n      <td>0.071823</td>\n      <td>0.060773</td>\n      <td>0.066298</td>\n      <td>0.058011</td>\n      <td>...</td>\n      <td>0.0</td>\n      <td>0.0</td>\n      <td>0.0</td>\n      <td>0.0</td>\n      <td>0.0</td>\n      <td>0.0</td>\n      <td>0.0</td>\n      <td>0.0</td>\n      <td>0.0</td>\n      <td>0.0</td>\n    </tr>\n    <tr>\n      <th>4</th>\n      <td>0.967136</td>\n      <td>1.000000</td>\n      <td>0.830986</td>\n      <td>0.586854</td>\n      <td>0.356808</td>\n      <td>0.248826</td>\n      <td>0.145540</td>\n      <td>0.089202</td>\n      <td>0.117371</td>\n      <td>0.150235</td>\n      <td>...</td>\n      <td>0.0</td>\n      <td>0.0</td>\n      <td>0.0</td>\n      <td>0.0</td>\n      <td>0.0</td>\n      <td>0.0</td>\n      <td>0.0</td>\n      <td>0.0</td>\n      <td>0.0</td>\n      <td>0.0</td>\n    </tr>\n    <tr>\n      <th>...</th>\n      <td>...</td>\n      <td>...</td>\n      <td>...</td>\n      <td>...</td>\n      <td>...</td>\n      <td>...</td>\n      <td>...</td>\n      <td>...</td>\n      <td>...</td>\n      <td>...</td>\n      <td>...</td>\n      <td>...</td>\n      <td>...</td>\n      <td>...</td>\n      <td>...</td>\n      <td>...</td>\n      <td>...</td>\n      <td>...</td>\n      <td>...</td>\n      <td>...</td>\n      <td>...</td>\n    </tr>\n    <tr>\n      <th>109441</th>\n      <td>0.928736</td>\n      <td>0.871264</td>\n      <td>0.804598</td>\n      <td>0.742529</td>\n      <td>0.650575</td>\n      <td>0.535632</td>\n      <td>0.394253</td>\n      <td>0.250575</td>\n      <td>0.140230</td>\n      <td>0.102299</td>\n      <td>...</td>\n      <td>0.0</td>\n      <td>0.0</td>\n      <td>0.0</td>\n      <td>0.0</td>\n      <td>0.0</td>\n      <td>0.0</td>\n      <td>0.0</td>\n      <td>0.0</td>\n      <td>0.0</td>\n      <td>4.0</td>\n    </tr>\n    <tr>\n      <th>109442</th>\n      <td>0.802691</td>\n      <td>0.692078</td>\n      <td>0.587444</td>\n      <td>0.446936</td>\n      <td>0.318386</td>\n      <td>0.189836</td>\n      <td>0.118087</td>\n      <td>0.077728</td>\n      <td>0.112108</td>\n      <td>0.152466</td>\n      <td>...</td>\n      <td>0.0</td>\n      <td>0.0</td>\n      <td>0.0</td>\n      <td>0.0</td>\n      <td>0.0</td>\n      <td>0.0</td>\n      <td>0.0</td>\n      <td>0.0</td>\n      <td>0.0</td>\n      <td>4.0</td>\n    </tr>\n    <tr>\n      <th>109443</th>\n      <td>1.000000</td>\n      <td>0.967359</td>\n      <td>0.620178</td>\n      <td>0.347181</td>\n      <td>0.139466</td>\n      <td>0.089021</td>\n      <td>0.103858</td>\n      <td>0.100890</td>\n      <td>0.106825</td>\n      <td>0.100890</td>\n      <td>...</td>\n      <td>0.0</td>\n      <td>0.0</td>\n      <td>0.0</td>\n      <td>0.0</td>\n      <td>0.0</td>\n      <td>0.0</td>\n      <td>0.0</td>\n      <td>0.0</td>\n      <td>0.0</td>\n      <td>4.0</td>\n    </tr>\n    <tr>\n      <th>109444</th>\n      <td>0.984127</td>\n      <td>0.567460</td>\n      <td>0.607143</td>\n      <td>0.583333</td>\n      <td>0.607143</td>\n      <td>0.575397</td>\n      <td>0.575397</td>\n      <td>0.488095</td>\n      <td>0.392857</td>\n      <td>0.238095</td>\n      <td>...</td>\n      <td>0.0</td>\n      <td>0.0</td>\n      <td>0.0</td>\n      <td>0.0</td>\n      <td>0.0</td>\n      <td>0.0</td>\n      <td>0.0</td>\n      <td>0.0</td>\n      <td>0.0</td>\n      <td>4.0</td>\n    </tr>\n    <tr>\n      <th>109445</th>\n      <td>0.973970</td>\n      <td>0.913232</td>\n      <td>0.865510</td>\n      <td>0.823210</td>\n      <td>0.746204</td>\n      <td>0.642082</td>\n      <td>0.547722</td>\n      <td>0.426247</td>\n      <td>0.325380</td>\n      <td>0.279826</td>\n      <td>...</td>\n      <td>0.0</td>\n      <td>0.0</td>\n      <td>0.0</td>\n      <td>0.0</td>\n      <td>0.0</td>\n      <td>0.0</td>\n      <td>0.0</td>\n      <td>0.0</td>\n      <td>0.0</td>\n      <td>4.0</td>\n    </tr>\n  </tbody>\n</table>\n<p>109446 rows × 188 columns</p>\n</div>"
     },
     "execution_count": 5,
     "metadata": {},
     "output_type": "execute_result"
    }
   ]
  },
  {
   "cell_type": "markdown",
   "source": [
    "# Basic EDA"
   ],
   "metadata": {
    "id": "hv3xX7FWo2tO"
   }
  },
  {
   "cell_type": "code",
   "source": [
    "all_data.head()"
   ],
   "metadata": {
    "collapsed": false,
    "jupyter": {
     "outputs_hidden": false
    },
    "execution": {
     "iopub.status.busy": "2023-05-03T07:55:57.194135Z",
     "iopub.execute_input": "2023-05-03T07:55:57.194576Z",
     "iopub.status.idle": "2023-05-03T07:55:57.223254Z",
     "shell.execute_reply.started": "2023-05-03T07:55:57.194530Z",
     "shell.execute_reply": "2023-05-03T07:55:57.222139Z"
    },
    "trusted": true,
    "ExecuteTime": {
     "end_time": "2023-05-03T07:58:25.898505800Z",
     "start_time": "2023-05-03T07:58:25.837531400Z"
    }
   },
   "execution_count": 6,
   "outputs": [
    {
     "data": {
      "text/plain": "          0         1         2         3         4         5         6  \\\n0  0.977941  0.926471  0.681373  0.245098  0.154412  0.191176  0.151961   \n1  0.960114  0.863248  0.461538  0.196581  0.094017  0.125356  0.099715   \n2  1.000000  0.659459  0.186486  0.070270  0.070270  0.059459  0.056757   \n3  0.925414  0.665746  0.541436  0.276243  0.196133  0.077348  0.071823   \n4  0.967136  1.000000  0.830986  0.586854  0.356808  0.248826  0.145540   \n\n          7         8         9  ...  178  179  180  181  182  183  184  185  \\\n0  0.085784  0.058824  0.049020  ...  0.0  0.0  0.0  0.0  0.0  0.0  0.0  0.0   \n1  0.088319  0.074074  0.082621  ...  0.0  0.0  0.0  0.0  0.0  0.0  0.0  0.0   \n2  0.043243  0.054054  0.045946  ...  0.0  0.0  0.0  0.0  0.0  0.0  0.0  0.0   \n3  0.060773  0.066298  0.058011  ...  0.0  0.0  0.0  0.0  0.0  0.0  0.0  0.0   \n4  0.089202  0.117371  0.150235  ...  0.0  0.0  0.0  0.0  0.0  0.0  0.0  0.0   \n\n   186  class  \n0  0.0    0.0  \n1  0.0    0.0  \n2  0.0    0.0  \n3  0.0    0.0  \n4  0.0    0.0  \n\n[5 rows x 188 columns]",
      "text/html": "<div>\n<style scoped>\n    .dataframe tbody tr th:only-of-type {\n        vertical-align: middle;\n    }\n\n    .dataframe tbody tr th {\n        vertical-align: top;\n    }\n\n    .dataframe thead th {\n        text-align: right;\n    }\n</style>\n<table border=\"1\" class=\"dataframe\">\n  <thead>\n    <tr style=\"text-align: right;\">\n      <th></th>\n      <th>0</th>\n      <th>1</th>\n      <th>2</th>\n      <th>3</th>\n      <th>4</th>\n      <th>5</th>\n      <th>6</th>\n      <th>7</th>\n      <th>8</th>\n      <th>9</th>\n      <th>...</th>\n      <th>178</th>\n      <th>179</th>\n      <th>180</th>\n      <th>181</th>\n      <th>182</th>\n      <th>183</th>\n      <th>184</th>\n      <th>185</th>\n      <th>186</th>\n      <th>class</th>\n    </tr>\n  </thead>\n  <tbody>\n    <tr>\n      <th>0</th>\n      <td>0.977941</td>\n      <td>0.926471</td>\n      <td>0.681373</td>\n      <td>0.245098</td>\n      <td>0.154412</td>\n      <td>0.191176</td>\n      <td>0.151961</td>\n      <td>0.085784</td>\n      <td>0.058824</td>\n      <td>0.049020</td>\n      <td>...</td>\n      <td>0.0</td>\n      <td>0.0</td>\n      <td>0.0</td>\n      <td>0.0</td>\n      <td>0.0</td>\n      <td>0.0</td>\n      <td>0.0</td>\n      <td>0.0</td>\n      <td>0.0</td>\n      <td>0.0</td>\n    </tr>\n    <tr>\n      <th>1</th>\n      <td>0.960114</td>\n      <td>0.863248</td>\n      <td>0.461538</td>\n      <td>0.196581</td>\n      <td>0.094017</td>\n      <td>0.125356</td>\n      <td>0.099715</td>\n      <td>0.088319</td>\n      <td>0.074074</td>\n      <td>0.082621</td>\n      <td>...</td>\n      <td>0.0</td>\n      <td>0.0</td>\n      <td>0.0</td>\n      <td>0.0</td>\n      <td>0.0</td>\n      <td>0.0</td>\n      <td>0.0</td>\n      <td>0.0</td>\n      <td>0.0</td>\n      <td>0.0</td>\n    </tr>\n    <tr>\n      <th>2</th>\n      <td>1.000000</td>\n      <td>0.659459</td>\n      <td>0.186486</td>\n      <td>0.070270</td>\n      <td>0.070270</td>\n      <td>0.059459</td>\n      <td>0.056757</td>\n      <td>0.043243</td>\n      <td>0.054054</td>\n      <td>0.045946</td>\n      <td>...</td>\n      <td>0.0</td>\n      <td>0.0</td>\n      <td>0.0</td>\n      <td>0.0</td>\n      <td>0.0</td>\n      <td>0.0</td>\n      <td>0.0</td>\n      <td>0.0</td>\n      <td>0.0</td>\n      <td>0.0</td>\n    </tr>\n    <tr>\n      <th>3</th>\n      <td>0.925414</td>\n      <td>0.665746</td>\n      <td>0.541436</td>\n      <td>0.276243</td>\n      <td>0.196133</td>\n      <td>0.077348</td>\n      <td>0.071823</td>\n      <td>0.060773</td>\n      <td>0.066298</td>\n      <td>0.058011</td>\n      <td>...</td>\n      <td>0.0</td>\n      <td>0.0</td>\n      <td>0.0</td>\n      <td>0.0</td>\n      <td>0.0</td>\n      <td>0.0</td>\n      <td>0.0</td>\n      <td>0.0</td>\n      <td>0.0</td>\n      <td>0.0</td>\n    </tr>\n    <tr>\n      <th>4</th>\n      <td>0.967136</td>\n      <td>1.000000</td>\n      <td>0.830986</td>\n      <td>0.586854</td>\n      <td>0.356808</td>\n      <td>0.248826</td>\n      <td>0.145540</td>\n      <td>0.089202</td>\n      <td>0.117371</td>\n      <td>0.150235</td>\n      <td>...</td>\n      <td>0.0</td>\n      <td>0.0</td>\n      <td>0.0</td>\n      <td>0.0</td>\n      <td>0.0</td>\n      <td>0.0</td>\n      <td>0.0</td>\n      <td>0.0</td>\n      <td>0.0</td>\n      <td>0.0</td>\n    </tr>\n  </tbody>\n</table>\n<p>5 rows × 188 columns</p>\n</div>"
     },
     "execution_count": 6,
     "metadata": {},
     "output_type": "execute_result"
    }
   ]
  },
  {
   "cell_type": "code",
   "source": [
    "all_data['class'].value_counts()"
   ],
   "metadata": {
    "id": "29vCaKCNo2tO",
    "outputId": "cf113e7d-5083-43ef-a2dc-aee7fe734ed0",
    "execution": {
     "iopub.status.busy": "2023-05-03T07:55:57.226029Z",
     "iopub.execute_input": "2023-05-03T07:55:57.226459Z",
     "iopub.status.idle": "2023-05-03T07:55:57.240922Z",
     "shell.execute_reply.started": "2023-05-03T07:55:57.226422Z",
     "shell.execute_reply": "2023-05-03T07:55:57.239779Z"
    },
    "trusted": true,
    "ExecuteTime": {
     "end_time": "2023-05-03T07:58:25.988533Z",
     "start_time": "2023-05-03T07:58:25.872500600Z"
    }
   },
   "execution_count": 7,
   "outputs": [
    {
     "data": {
      "text/plain": "0.0    90589\n4.0     8039\n2.0     7236\n1.0     2779\n3.0      803\nName: class, dtype: int64"
     },
     "execution_count": 7,
     "metadata": {},
     "output_type": "execute_result"
    }
   ]
  },
  {
   "cell_type": "code",
   "source": [
    "plot_categorical_distribution_with_percentage(all_data, 'class')"
   ],
   "metadata": {
    "_kg_hide-input": true,
    "id": "CvgGtV3Jo2tP",
    "outputId": "848f29bc-e513-405c-eb26-ed0045d68bf3",
    "execution": {
     "iopub.status.busy": "2023-05-03T07:55:57.242782Z",
     "iopub.execute_input": "2023-05-03T07:55:57.243190Z",
     "iopub.status.idle": "2023-05-03T07:55:57.523659Z",
     "shell.execute_reply.started": "2023-05-03T07:55:57.243152Z",
     "shell.execute_reply": "2023-05-03T07:55:57.522661Z"
    },
    "trusted": true,
    "ExecuteTime": {
     "end_time": "2023-05-03T07:58:26.992321Z",
     "start_time": "2023-05-03T07:58:25.901501400Z"
    }
   },
   "execution_count": 8,
   "outputs": [
    {
     "data": {
      "text/plain": "<Figure size 1200x600 with 1 Axes>",
      "image/png": "[encoded data removed]"
     },
     "metadata": {},
     "output_type": "display_data"
    }
   ]
  },
  {
   "cell_type": "code",
   "source": [
    "train_final = all_data[all_data.index < train_df.shape[0]]\n",
    "test_final = all_data[all_data.index >= train_df.shape[0]]"
   ],
   "metadata": {
    "collapsed": false,
    "jupyter": {
     "outputs_hidden": false
    },
    "execution": {
     "iopub.status.busy": "2023-05-03T07:55:57.525379Z",
     "iopub.execute_input": "2023-05-03T07:55:57.526085Z",
     "iopub.status.idle": "2023-05-03T07:55:57.617181Z",
     "shell.execute_reply.started": "2023-05-03T07:55:57.526036Z",
     "shell.execute_reply": "2023-05-03T07:55:57.616135Z"
    },
    "trusted": true,
    "ExecuteTime": {
     "end_time": "2023-05-03T07:58:35.097922500Z",
     "start_time": "2023-05-03T07:58:34.990894700Z"
    }
   },
   "execution_count": 9,
   "outputs": []
  },
  {
   "cell_type": "code",
   "source": [
    "train_final.head()"
   ],
   "metadata": {
    "collapsed": false,
    "jupyter": {
     "outputs_hidden": false
    },
    "execution": {
     "iopub.status.busy": "2023-05-03T07:55:57.618842Z",
     "iopub.execute_input": "2023-05-03T07:55:57.619237Z",
     "iopub.status.idle": "2023-05-03T07:55:57.646135Z",
     "shell.execute_reply.started": "2023-05-03T07:55:57.619199Z",
     "shell.execute_reply": "2023-05-03T07:55:57.644945Z"
    },
    "trusted": true,
    "ExecuteTime": {
     "end_time": "2023-05-03T07:58:35.576173300Z",
     "start_time": "2023-05-03T07:58:35.480174600Z"
    }
   },
   "execution_count": 10,
   "outputs": [
    {
     "data": {
      "text/plain": "          0         1         2         3         4         5         6  \\\n0  0.977941  0.926471  0.681373  0.245098  0.154412  0.191176  0.151961   \n1  0.960114  0.863248  0.461538  0.196581  0.094017  0.125356  0.099715   \n2  1.000000  0.659459  0.186486  0.070270  0.070270  0.059459  0.056757   \n3  0.925414  0.665746  0.541436  0.276243  0.196133  0.077348  0.071823   \n4  0.967136  1.000000  0.830986  0.586854  0.356808  0.248826  0.145540   \n\n          7         8         9  ...  178  179  180  181  182  183  184  185  \\\n0  0.085784  0.058824  0.049020  ...  0.0  0.0  0.0  0.0  0.0  0.0  0.0  0.0   \n1  0.088319  0.074074  0.082621  ...  0.0  0.0  0.0  0.0  0.0  0.0  0.0  0.0   \n2  0.043243  0.054054  0.045946  ...  0.0  0.0  0.0  0.0  0.0  0.0  0.0  0.0   \n3  0.060773  0.066298  0.058011  ...  0.0  0.0  0.0  0.0  0.0  0.0  0.0  0.0   \n4  0.089202  0.117371  0.150235  ...  0.0  0.0  0.0  0.0  0.0  0.0  0.0  0.0   \n\n   186  class  \n0  0.0    0.0  \n1  0.0    0.0  \n2  0.0    0.0  \n3  0.0    0.0  \n4  0.0    0.0  \n\n[5 rows x 188 columns]",
      "text/html": "<div>\n<style scoped>\n    .dataframe tbody tr th:only-of-type {\n        vertical-align: middle;\n    }\n\n    .dataframe tbody tr th {\n        vertical-align: top;\n    }\n\n    .dataframe thead th {\n        text-align: right;\n    }\n</style>\n<table border=\"1\" class=\"dataframe\">\n  <thead>\n    <tr style=\"text-align: right;\">\n      <th></th>\n      <th>0</th>\n      <th>1</th>\n      <th>2</th>\n      <th>3</th>\n      <th>4</th>\n      <th>5</th>\n      <th>6</th>\n      <th>7</th>\n      <th>8</th>\n      <th>9</th>\n      <th>...</th>\n      <th>178</th>\n      <th>179</th>\n      <th>180</th>\n      <th>181</th>\n      <th>182</th>\n      <th>183</th>\n      <th>184</th>\n      <th>185</th>\n      <th>186</th>\n      <th>class</th>\n    </tr>\n  </thead>\n  <tbody>\n    <tr>\n      <th>0</th>\n      <td>0.977941</td>\n      <td>0.926471</td>\n      <td>0.681373</td>\n      <td>0.245098</td>\n      <td>0.154412</td>\n      <td>0.191176</td>\n      <td>0.151961</td>\n      <td>0.085784</td>\n      <td>0.058824</td>\n      <td>0.049020</td>\n      <td>...</td>\n      <td>0.0</td>\n      <td>0.0</td>\n      <td>0.0</td>\n      <td>0.0</td>\n      <td>0.0</td>\n      <td>0.0</td>\n      <td>0.0</td>\n      <td>0.0</td>\n      <td>0.0</td>\n      <td>0.0</td>\n    </tr>\n    <tr>\n      <th>1</th>\n      <td>0.960114</td>\n      <td>0.863248</td>\n      <td>0.461538</td>\n      <td>0.196581</td>\n      <td>0.094017</td>\n      <td>0.125356</td>\n      <td>0.099715</td>\n      <td>0.088319</td>\n      <td>0.074074</td>\n      <td>0.082621</td>\n      <td>...</td>\n      <td>0.0</td>\n      <td>0.0</td>\n      <td>0.0</td>\n      <td>0.0</td>\n      <td>0.0</td>\n      <td>0.0</td>\n      <td>0.0</td>\n      <td>0.0</td>\n      <td>0.0</td>\n      <td>0.0</td>\n    </tr>\n    <tr>\n      <th>2</th>\n      <td>1.000000</td>\n      <td>0.659459</td>\n      <td>0.186486</td>\n      <td>0.070270</td>\n      <td>0.070270</td>\n      <td>0.059459</td>\n      <td>0.056757</td>\n      <td>0.043243</td>\n      <td>0.054054</td>\n      <td>0.045946</td>\n      <td>...</td>\n      <td>0.0</td>\n      <td>0.0</td>\n      <td>0.0</td>\n      <td>0.0</td>\n      <td>0.0</td>\n      <td>0.0</td>\n      <td>0.0</td>\n      <td>0.0</td>\n      <td>0.0</td>\n      <td>0.0</td>\n    </tr>\n    <tr>\n      <th>3</th>\n      <td>0.925414</td>\n      <td>0.665746</td>\n      <td>0.541436</td>\n      <td>0.276243</td>\n      <td>0.196133</td>\n      <td>0.077348</td>\n      <td>0.071823</td>\n      <td>0.060773</td>\n      <td>0.066298</td>\n      <td>0.058011</td>\n      <td>...</td>\n      <td>0.0</td>\n      <td>0.0</td>\n      <td>0.0</td>\n      <td>0.0</td>\n      <td>0.0</td>\n      <td>0.0</td>\n      <td>0.0</td>\n      <td>0.0</td>\n      <td>0.0</td>\n      <td>0.0</td>\n    </tr>\n    <tr>\n      <th>4</th>\n      <td>0.967136</td>\n      <td>1.000000</td>\n      <td>0.830986</td>\n      <td>0.586854</td>\n      <td>0.356808</td>\n      <td>0.248826</td>\n      <td>0.145540</td>\n      <td>0.089202</td>\n      <td>0.117371</td>\n      <td>0.150235</td>\n      <td>...</td>\n      <td>0.0</td>\n      <td>0.0</td>\n      <td>0.0</td>\n      <td>0.0</td>\n      <td>0.0</td>\n      <td>0.0</td>\n      <td>0.0</td>\n      <td>0.0</td>\n      <td>0.0</td>\n      <td>0.0</td>\n    </tr>\n  </tbody>\n</table>\n<p>5 rows × 188 columns</p>\n</div>"
     },
     "execution_count": 10,
     "metadata": {},
     "output_type": "execute_result"
    }
   ]
  },
  {
   "cell_type": "code",
   "source": [
    "test_final.head()"
   ],
   "metadata": {
    "collapsed": false,
    "jupyter": {
     "outputs_hidden": false
    },
    "execution": {
     "iopub.status.busy": "2023-05-03T07:55:57.648135Z",
     "iopub.execute_input": "2023-05-03T07:55:57.649072Z",
     "iopub.status.idle": "2023-05-03T07:55:57.675541Z",
     "shell.execute_reply.started": "2023-05-03T07:55:57.649020Z",
     "shell.execute_reply": "2023-05-03T07:55:57.674282Z"
    },
    "trusted": true,
    "ExecuteTime": {
     "end_time": "2023-05-03T07:58:38.464263100Z",
     "start_time": "2023-05-03T07:58:38.411393500Z"
    }
   },
   "execution_count": 11,
   "outputs": [
    {
     "data": {
      "text/plain": "              0         1         2         3         4         5         6  \\\n87554  1.000000  0.758264  0.111570  0.000000  0.080579  0.078512  0.066116   \n87555  0.908425  0.783883  0.531136  0.362637  0.366300  0.344322  0.333333   \n87556  0.730088  0.212389  0.000000  0.119469  0.101770  0.101770  0.110619   \n87557  1.000000  0.910417  0.681250  0.472917  0.229167  0.068750  0.000000   \n87558  0.570470  0.399329  0.238255  0.147651  0.000000  0.003356  0.040268   \n\n              7         8         9  ...  178  179  180  181  182  183  184  \\\n87554  0.049587  0.047521  0.035124  ...  0.0  0.0  0.0  0.0  0.0  0.0  0.0   \n87555  0.307692  0.296703  0.300366  ...  0.0  0.0  0.0  0.0  0.0  0.0  0.0   \n87556  0.123894  0.115044  0.132743  ...  0.0  0.0  0.0  0.0  0.0  0.0  0.0   \n87557  0.004167  0.014583  0.054167  ...  0.0  0.0  0.0  0.0  0.0  0.0  0.0   \n87558  0.080537  0.070470  0.090604  ...  0.0  0.0  0.0  0.0  0.0  0.0  0.0   \n\n       185  186  class  \n87554  0.0  0.0    0.0  \n87555  0.0  0.0    0.0  \n87556  0.0  0.0    0.0  \n87557  0.0  0.0    0.0  \n87558  0.0  0.0    0.0  \n\n[5 rows x 188 columns]",
      "text/html": "<div>\n<style scoped>\n    .dataframe tbody tr th:only-of-type {\n        vertical-align: middle;\n    }\n\n    .dataframe tbody tr th {\n        vertical-align: top;\n    }\n\n    .dataframe thead th {\n        text-align: right;\n    }\n</style>\n<table border=\"1\" class=\"dataframe\">\n  <thead>\n    <tr style=\"text-align: right;\">\n      <th></th>\n      <th>0</th>\n      <th>1</th>\n      <th>2</th>\n      <th>3</th>\n      <th>4</th>\n      <th>5</th>\n      <th>6</th>\n      <th>7</th>\n      <th>8</th>\n      <th>9</th>\n      <th>...</th>\n      <th>178</th>\n      <th>179</th>\n      <th>180</th>\n      <th>181</th>\n      <th>182</th>\n      <th>183</th>\n      <th>184</th>\n      <th>185</th>\n      <th>186</th>\n      <th>class</th>\n    </tr>\n  </thead>\n  <tbody>\n    <tr>\n      <th>87554</th>\n      <td>1.000000</td>\n      <td>0.758264</td>\n      <td>0.111570</td>\n      <td>0.000000</td>\n      <td>0.080579</td>\n      <td>0.078512</td>\n      <td>0.066116</td>\n      <td>0.049587</td>\n      <td>0.047521</td>\n      <td>0.035124</td>\n      <td>...</td>\n      <td>0.0</td>\n      <td>0.0</td>\n      <td>0.0</td>\n      <td>0.0</td>\n      <td>0.0</td>\n      <td>0.0</td>\n      <td>0.0</td>\n      <td>0.0</td>\n      <td>0.0</td>\n      <td>0.0</td>\n    </tr>\n    <tr>\n      <th>87555</th>\n      <td>0.908425</td>\n      <td>0.783883</td>\n      <td>0.531136</td>\n      <td>0.362637</td>\n      <td>0.366300</td>\n      <td>0.344322</td>\n      <td>0.333333</td>\n      <td>0.307692</td>\n      <td>0.296703</td>\n      <td>0.300366</td>\n      <td>...</td>\n      <td>0.0</td>\n      <td>0.0</td>\n      <td>0.0</td>\n      <td>0.0</td>\n      <td>0.0</td>\n      <td>0.0</td>\n      <td>0.0</td>\n      <td>0.0</td>\n      <td>0.0</td>\n      <td>0.0</td>\n    </tr>\n    <tr>\n      <th>87556</th>\n      <td>0.730088</td>\n      <td>0.212389</td>\n      <td>0.000000</td>\n      <td>0.119469</td>\n      <td>0.101770</td>\n      <td>0.101770</td>\n      <td>0.110619</td>\n      <td>0.123894</td>\n      <td>0.115044</td>\n      <td>0.132743</td>\n      <td>...</td>\n      <td>0.0</td>\n      <td>0.0</td>\n      <td>0.0</td>\n      <td>0.0</td>\n      <td>0.0</td>\n      <td>0.0</td>\n      <td>0.0</td>\n      <td>0.0</td>\n      <td>0.0</td>\n      <td>0.0</td>\n    </tr>\n    <tr>\n      <th>87557</th>\n      <td>1.000000</td>\n      <td>0.910417</td>\n      <td>0.681250</td>\n      <td>0.472917</td>\n      <td>0.229167</td>\n      <td>0.068750</td>\n      <td>0.000000</td>\n      <td>0.004167</td>\n      <td>0.014583</td>\n      <td>0.054167</td>\n      <td>...</td>\n      <td>0.0</td>\n      <td>0.0</td>\n      <td>0.0</td>\n      <td>0.0</td>\n      <td>0.0</td>\n      <td>0.0</td>\n      <td>0.0</td>\n      <td>0.0</td>\n      <td>0.0</td>\n      <td>0.0</td>\n    </tr>\n    <tr>\n      <th>87558</th>\n      <td>0.570470</td>\n      <td>0.399329</td>\n      <td>0.238255</td>\n      <td>0.147651</td>\n      <td>0.000000</td>\n      <td>0.003356</td>\n      <td>0.040268</td>\n      <td>0.080537</td>\n      <td>0.070470</td>\n      <td>0.090604</td>\n      <td>...</td>\n      <td>0.0</td>\n      <td>0.0</td>\n      <td>0.0</td>\n      <td>0.0</td>\n      <td>0.0</td>\n      <td>0.0</td>\n      <td>0.0</td>\n      <td>0.0</td>\n      <td>0.0</td>\n      <td>0.0</td>\n    </tr>\n  </tbody>\n</table>\n<p>5 rows × 188 columns</p>\n</div>"
     },
     "execution_count": 11,
     "metadata": {},
     "output_type": "execute_result"
    }
   ]
  },
  {
   "cell_type": "code",
   "source": [
    "train_final.shape"
   ],
   "metadata": {
    "collapsed": false,
    "jupyter": {
     "outputs_hidden": false
    },
    "execution": {
     "iopub.status.busy": "2023-05-03T07:55:57.677656Z",
     "iopub.execute_input": "2023-05-03T07:55:57.678141Z",
     "iopub.status.idle": "2023-05-03T07:55:57.690367Z",
     "shell.execute_reply.started": "2023-05-03T07:55:57.678094Z",
     "shell.execute_reply": "2023-05-03T07:55:57.689059Z"
    },
    "trusted": true,
    "ExecuteTime": {
     "end_time": "2023-05-03T07:58:38.893007600Z",
     "start_time": "2023-05-03T07:58:38.811000100Z"
    }
   },
   "execution_count": 12,
   "outputs": [
    {
     "data": {
      "text/plain": "(87554, 188)"
     },
     "execution_count": 12,
     "metadata": {},
     "output_type": "execute_result"
    }
   ]
  },
  {
   "cell_type": "code",
   "source": [
    "test_final.shape"
   ],
   "metadata": {
    "collapsed": false,
    "jupyter": {
     "outputs_hidden": false
    },
    "execution": {
     "iopub.status.busy": "2023-05-03T07:55:57.694572Z",
     "iopub.execute_input": "2023-05-03T07:55:57.694867Z",
     "iopub.status.idle": "2023-05-03T07:55:57.702156Z",
     "shell.execute_reply.started": "2023-05-03T07:55:57.694840Z",
     "shell.execute_reply": "2023-05-03T07:55:57.700908Z"
    },
    "trusted": true,
    "ExecuteTime": {
     "end_time": "2023-05-03T07:58:41.410550400Z",
     "start_time": "2023-05-03T07:58:41.282522400Z"
    }
   },
   "execution_count": 13,
   "outputs": [
    {
     "data": {
      "text/plain": "(21892, 188)"
     },
     "execution_count": 13,
     "metadata": {},
     "output_type": "execute_result"
    }
   ]
  },
  {
   "cell_type": "markdown",
   "source": [
    "# Models"
   ],
   "metadata": {}
  },
  {
   "cell_type": "code",
   "source": [
    "class_names = [\"Normal\", \"Artial Premature\", \"Premature ventricular contraction\", \"Fusion of ventricular and normal\",\n",
    "               \"Fusion of paced and normal\"]\n",
    "number_of_features = 187"
   ],
   "metadata": {
    "collapsed": false,
    "jupyter": {
     "outputs_hidden": false
    },
    "execution": {
     "iopub.status.busy": "2023-05-03T07:55:57.703586Z",
     "iopub.execute_input": "2023-05-03T07:55:57.704530Z",
     "iopub.status.idle": "2023-05-03T07:55:57.710259Z",
     "shell.execute_reply.started": "2023-05-03T07:55:57.704488Z",
     "shell.execute_reply": "2023-05-03T07:55:57.709037Z"
    },
    "trusted": true,
    "ExecuteTime": {
     "end_time": "2023-05-03T07:58:43.260611100Z",
     "start_time": "2023-05-03T07:58:43.212616400Z"
    }
   },
   "execution_count": 14,
   "outputs": []
  },
  {
   "cell_type": "markdown",
   "source": [
    "# Training stage"
   ],
   "metadata": {}
  },
  {
   "cell_type": "code",
   "source": [
    "from sklearn.model_selection import train_test_split\n",
    "\n",
    "X = train_final.iloc[:, :-1].values\n",
    "y = train_final.iloc[:, -1].values\n",
    "\n",
    "y = to_categorical(y, num_classes=len(class_names))\n",
    "\n",
    "X_train, X_valid, y_train, y_valid = train_test_split(X, y, test_size=0.2, random_state=42)\n",
    "X_test = test_final.iloc[:, :-1].values\n",
    "y_test = test_final.iloc[:, -1].values\n",
    "y_test = to_categorical(y_test, num_classes=len(class_names))"
   ],
   "metadata": {
    "collapsed": false,
    "jupyter": {
     "outputs_hidden": false
    },
    "execution": {
     "iopub.status.busy": "2023-05-03T07:55:57.711819Z",
     "iopub.execute_input": "2023-05-03T07:55:57.712965Z",
     "iopub.status.idle": "2023-05-03T07:55:57.939618Z",
     "shell.execute_reply.started": "2023-05-03T07:55:57.712929Z",
     "shell.execute_reply": "2023-05-03T07:55:57.937178Z"
    },
    "trusted": true,
    "ExecuteTime": {
     "end_time": "2023-05-03T07:58:47.748083300Z",
     "start_time": "2023-05-03T07:58:47.319047700Z"
    }
   },
   "execution_count": 15,
   "outputs": []
  },
  {
   "cell_type": "code",
   "source": [
    "if working_locally:\n",
    "    X_train, y_train = sub_percentage_of(X_train, y_train, 0.05)\n",
    "    X_valid, y_valid = sub_percentage_of(X_valid, y_valid, 0.05)\n",
    "    X_test, y_test = sub_percentage_of(X_test, y_test, 0.05)\n",
    "\n",
    "print(X_train.shape, y_train.shape)\n",
    "print(X_test.shape, y_test.shape)"
   ],
   "metadata": {
    "collapsed": false,
    "ExecuteTime": {
     "end_time": "2023-05-01T09:34:19.114211100Z",
     "start_time": "2023-05-01T09:34:19.087032300Z"
    },
    "jupyter": {
     "outputs_hidden": false
    },
    "execution": {
     "iopub.status.busy": "2023-05-03T07:55:57.941777Z",
     "iopub.execute_input": "2023-05-03T07:55:57.942574Z",
     "iopub.status.idle": "2023-05-03T07:55:57.955130Z",
     "shell.execute_reply.started": "2023-05-03T07:55:57.942534Z",
     "shell.execute_reply": "2023-05-03T07:55:57.951138Z"
    },
    "trusted": true
   },
   "execution_count": 16,
   "outputs": [
    {
     "name": "stdout",
     "text": "(70043, 187) (70043, 5)\n(21892, 187) (21892, 5)\n",
     "output_type": "stream"
    }
   ]
  },
  {
   "cell_type": "code",
   "source": [
    "def build_model():\n",
    "    model = tk.Sequential([\n",
    "        l.Conv1D(32, kernel_size=5, strides=2, activation=\"relu\", input_shape=(187, 1)),\n",
    "        l.BatchNormalization(),\n",
    "        l.Conv1D(64, kernel_size=5, strides=2, activation=\"relu\"),\n",
    "        l.BatchNormalization(),\n",
    "        l.Conv1D(128, kernel_size=3, strides=2, activation=\"relu\"),\n",
    "        l.BatchNormalization(),\n",
    "        l.Bidirectional(l.LSTM(64, return_sequences=True)),\n",
    "        l.Bidirectional(l.LSTM(128)),\n",
    "        l.Dropout(0.2),\n",
    "        l.Dense(len(class_names), activation=\"softmax\")\n",
    "    ])\n",
    "    optimizer = tk.optimizers.SGD(learning_rate=1e-2, clipnorm=1.)\n",
    "    model.compile(loss=\"categorical_crossentropy\",\n",
    "                  optimizer=optimizer,\n",
    "                  metrics=[\"accuracy\"])\n",
    "    return model"
   ],
   "metadata": {
    "execution": {
     "iopub.status.busy": "2023-05-03T07:55:57.956755Z",
     "iopub.execute_input": "2023-05-03T07:55:57.958021Z",
     "iopub.status.idle": "2023-05-03T07:55:57.969563Z",
     "shell.execute_reply.started": "2023-05-03T07:55:57.957985Z",
     "shell.execute_reply": "2023-05-03T07:55:57.967480Z"
    },
    "trusted": true,
    "ExecuteTime": {
     "end_time": "2023-05-03T07:58:51.946441200Z",
     "start_time": "2023-05-03T07:58:51.925411900Z"
    }
   },
   "execution_count": 16,
   "outputs": []
  },
  {
   "cell_type": "code",
   "source": [
    "model = build_model()\n",
    "early_stopping = tk.callbacks.EarlyStopping(patience=10, restore_best_weights=True)\n",
    "history = model.fit(X_train, y_train,\n",
    "                    epochs=100,\n",
    "                    validation_data=(X_valid, y_valid),\n",
    "                    callbacks=[early_stopping])"
   ],
   "metadata": {
    "id": "vbsXrltbo2tT",
    "ExecuteTime": {
     "end_time": "2023-05-01T09:35:26.840489400Z",
     "start_time": "2023-05-01T09:34:21.253406200Z"
    },
    "execution": {
     "iopub.status.busy": "2023-05-02T15:33:56.102528Z",
     "iopub.execute_input": "2023-05-02T15:33:56.103256Z"
    },
    "trusted": true
   },
   "execution_count": null,
   "outputs": [
    {
     "name": "stdout",
     "text": "Epoch 1/100\n2189/2189 [==============================] - 54s 19ms/step - loss: 0.3544 - accuracy: 0.9021 - val_loss: 0.2082 - val_accuracy: 0.9497\nEpoch 2/100\n2189/2189 [==============================] - 40s 18ms/step - loss: 0.1870 - accuracy: 0.9510 - val_loss: 0.1749 - val_accuracy: 0.9507\nEpoch 3/100\n2189/2189 [==============================] - 39s 18ms/step - loss: 0.1517 - accuracy: 0.9578 - val_loss: 0.1424 - val_accuracy: 0.9569\nEpoch 4/100\n2189/2189 [==============================] - 37s 17ms/step - loss: 0.1322 - accuracy: 0.9625 - val_loss: 0.1270 - val_accuracy: 0.9632\nEpoch 5/100\n2189/2189 [==============================] - 37s 17ms/step - loss: 0.1211 - accuracy: 0.9654 - val_loss: 0.1209 - val_accuracy: 0.9677\nEpoch 6/100\n2189/2189 [==============================] - 38s 17ms/step - loss: 0.1126 - accuracy: 0.9684 - val_loss: 0.1485 - val_accuracy: 0.9581\nEpoch 7/100\n2189/2189 [==============================] - 37s 17ms/step - loss: 0.1066 - accuracy: 0.9704 - val_loss: 0.1336 - val_accuracy: 0.9620\nEpoch 8/100\n1143/2189 [==============>...............] - ETA: 16s - loss: 0.0985 - accuracy: 0.9735",
     "output_type": "stream"
    }
   ]
  },
  {
   "cell_type": "code",
   "source": [
    "plot_accuracy_and_loss(history)"
   ],
   "metadata": {
    "trusted": true
   },
   "execution_count": null,
   "outputs": []
  },
  {
   "cell_type": "code",
   "source": [
    "model.evaluate(X_test, y_test)"
   ],
   "metadata": {
    "collapsed": false,
    "ExecuteTime": {
     "end_time": "2023-05-01T09:35:27.615489400Z",
     "start_time": "2023-05-01T09:35:26.834491800Z"
    },
    "jupyter": {
     "outputs_hidden": false
    },
    "trusted": true
   },
   "execution_count": null,
   "outputs": []
  },
  {
   "cell_type": "code",
   "source": [
    "model.save('model_bi_lstm.h5')"
   ],
   "metadata": {
    "collapsed": false,
    "ExecuteTime": {
     "end_time": "2023-05-01T09:30:59.838697100Z",
     "start_time": "2023-05-01T09:30:59.513696600Z"
    },
    "jupyter": {
     "outputs_hidden": false
    },
    "trusted": true
   },
   "execution_count": null,
   "outputs": []
  },
  {
   "cell_type": "code",
   "source": [
    "model = tk.models.load_model('../models/model_bi_lstm.h5', compile=False)\n",
    "optimizer = tk.optimizers.SGD(learning_rate=1e-2, clipnorm=1.)\n",
    "model.compile(loss=\"categorical_crossentropy\",\n",
    "              optimizer=optimizer,\n",
    "              metrics=[\"accuracy\"])\n",
    "model.evaluate(X_test, y_test)"
   ],
   "metadata": {
    "ExecuteTime": {
     "end_time": "2023-05-03T08:04:59.771749700Z",
     "start_time": "2023-05-03T08:04:40.328920800Z"
    }
   },
   "execution_count": 23,
   "outputs": [
    {
     "name": "stdout",
     "output_type": "stream",
     "text": [
      "685/685 [==============================] - 17s 17ms/step - loss: 0.0756 - accuracy: 0.9802\n"
     ]
    },
    {
     "data": {
      "text/plain": "[0.07558475434780121, 0.9802210927009583]"
     },
     "execution_count": 23,
     "metadata": {},
     "output_type": "execute_result"
    }
   ]
  },
  {
   "cell_type": "code",
   "execution_count": 26,
   "outputs": [
    {
     "name": "stdout",
     "output_type": "stream",
     "text": [
      "685/685 [==============================] - 12s 17ms/step\n"
     ]
    },
    {
     "data": {
      "text/plain": "array([[18016,    48,    25,    13,    16],\n       [  179,   367,     8,     1,     1],\n       [   56,     6,  1369,    13,     4],\n       [   24,     0,    18,   120,     0],\n       [   16,     1,     4,     0,  1587]], dtype=int64)"
     },
     "execution_count": 26,
     "metadata": {},
     "output_type": "execute_result"
    }
   ],
   "source": [
    "test_labels = y_test.argmax(axis=1)\n",
    "prediction_labels = model.predict(X_test).argmax(axis=1)\n",
    "cm = confusion_matrix(test_labels, prediction_labels)\n",
    "cm"
   ],
   "metadata": {
    "collapsed": false,
    "ExecuteTime": {
     "end_time": "2023-05-03T08:06:35.453810400Z",
     "start_time": "2023-05-03T08:06:23.252833100Z"
    }
   }
  },
  {
   "cell_type": "code",
   "execution_count": 28,
   "outputs": [
    {
     "name": "stdout",
     "output_type": "stream",
     "text": [
      "                                   precision    recall  f1-score   support\n",
      "\n",
      "                           Normal       0.98      0.99      0.99     18118\n",
      "                 Artial Premature       0.87      0.66      0.75       556\n",
      "Premature ventricular contraction       0.96      0.95      0.95      1448\n",
      " Fusion of ventricular and normal       0.82      0.74      0.78       162\n",
      "       Fusion of paced and normal       0.99      0.99      0.99      1608\n",
      "\n",
      "                         accuracy                           0.98     21892\n",
      "                        macro avg       0.92      0.87      0.89     21892\n",
      "                     weighted avg       0.98      0.98      0.98     21892\n",
      "\n"
     ]
    }
   ],
   "source": [
    "print(classification_report(test_labels, prediction_labels, target_names=class_names))"
   ],
   "metadata": {
    "collapsed": false,
    "ExecuteTime": {
     "end_time": "2023-05-03T08:07:54.546237700Z",
     "start_time": "2023-05-03T08:07:54.486159100Z"
    }
   }
  },
  {
   "cell_type": "code",
   "execution_count": 29,
   "outputs": [
    {
     "data": {
      "text/plain": "<Figure size 640x480 with 2 Axes>",
      "image/png": "[encoded data removed]"
     },
     "metadata": {},
     "output_type": "display_data"
    }
   ],
   "source": [
    "disp = ConfusionMatrixDisplay(confusion_matrix=cm, display_labels=class_names)\n",
    "disp.plot();"
   ],
   "metadata": {
    "collapsed": false,
    "ExecuteTime": {
     "end_time": "2023-05-03T08:07:56.366000300Z",
     "start_time": "2023-05-03T08:07:55.923049200Z"
    }
   }
  },
  {
   "cell_type": "markdown",
   "source": [
    "### retraining using a balanced dataset"
   ],
   "metadata": {}
  },
  {
   "cell_type": "code",
   "source": [
    "from sklearn.utils import resample\n",
    "\n",
    "\n",
    "def get_balanced_data():\n",
    "    class0_df = train_df[train_df[187] == 0]\n",
    "    class1_df = train_df[train_df[187] == 1]\n",
    "    class2_df = train_df[train_df[187] == 2]\n",
    "    class3_df = train_df[train_df[187] == 3]\n",
    "    class4_df = train_df[train_df[187] == 4]\n",
    "\n",
    "    class1_up_sampled = resample(class1_df, n_samples=20000, replace=True, random_state=1)\n",
    "    class2_up_sampled = resample(class2_df, n_samples=20000, replace=True, random_state=1)\n",
    "    class3_up_sampled = resample(class3_df, n_samples=20000, replace=True, random_state=1)\n",
    "    class4_up_sampled = resample(class4_df, n_samples=20000, replace=True, random_state=1)\n",
    "\n",
    "    class0_down_sampled = class0_df.sample(n=20000, random_state=0)\n",
    "\n",
    "    return pd.concat([class0_down_sampled,\n",
    "                      class1_up_sampled,\n",
    "                      class2_up_sampled,\n",
    "                      class3_up_sampled,\n",
    "                      class4_up_sampled])"
   ],
   "metadata": {
    "trusted": true,
    "ExecuteTime": {
     "end_time": "2023-05-03T08:09:12.042131700Z",
     "start_time": "2023-05-03T08:09:12.011657700Z"
    }
   },
   "execution_count": 30,
   "outputs": []
  },
  {
   "cell_type": "code",
   "source": [
    "balanced_train_df = get_balanced_data()"
   ],
   "metadata": {
    "collapsed": false,
    "jupyter": {
     "outputs_hidden": false
    },
    "trusted": true,
    "ExecuteTime": {
     "end_time": "2023-05-03T08:09:13.624472500Z",
     "start_time": "2023-05-03T08:09:13.374467700Z"
    }
   },
   "execution_count": 31,
   "outputs": []
  },
  {
   "cell_type": "code",
   "source": [
    "X = balanced_train_df.iloc[:, :-1].values\n",
    "y = balanced_train_df.iloc[:, -1].values\n",
    "\n",
    "y = to_categorical(y, num_classes=len(class_names))\n",
    "\n",
    "X_train, X_valid, y_train, y_valid = train_test_split(X, y, test_size=0.2, random_state=42)"
   ],
   "metadata": {
    "collapsed": false,
    "jupyter": {
     "outputs_hidden": false
    },
    "trusted": true,
    "ExecuteTime": {
     "end_time": "2023-05-03T08:09:15.863484900Z",
     "start_time": "2023-05-03T08:09:15.378495Z"
    }
   },
   "execution_count": 32,
   "outputs": []
  },
  {
   "cell_type": "code",
   "source": [
    "if working_locally:\n",
    "    X_train, y_train = sub_percentage_of(X_train, y_train, 0.05)\n",
    "    X_valid, y_valid = sub_percentage_of(X_valid, y_valid, 0.05)\n",
    "\n",
    "print(X_train.shape, y_train.shape)\n",
    "print(X_valid.shape, y_valid.shape)"
   ],
   "metadata": {
    "collapsed": false,
    "ExecuteTime": {
     "end_time": "2023-05-01T09:31:00.533340Z",
     "start_time": "2023-05-01T09:31:00.521339800Z"
    },
    "jupyter": {
     "outputs_hidden": false
    },
    "trusted": true
   },
   "execution_count": null,
   "outputs": []
  },
  {
   "cell_type": "code",
   "source": [
    "model = build_model()\n",
    "early_stopping = tk.callbacks.EarlyStopping(patience=10, restore_best_weights=True)\n",
    "history = model.fit(X_train, y_train,\n",
    "                    epochs=100,\n",
    "                    validation_data=(X_valid, y_valid),\n",
    "                    callbacks=[early_stopping])"
   ],
   "metadata": {
    "collapsed": false,
    "ExecuteTime": {
     "end_time": "2023-05-01T09:43:35.694603Z",
     "start_time": "2023-05-01T09:42:36.847607400Z"
    },
    "jupyter": {
     "outputs_hidden": false
    },
    "trusted": true
   },
   "execution_count": null,
   "outputs": []
  },
  {
   "cell_type": "code",
   "source": [
    "plot_accuracy_and_loss(history)"
   ],
   "metadata": {
    "collapsed": false,
    "ExecuteTime": {
     "end_time": "2023-05-01T09:32:01.069139400Z",
     "start_time": "2023-05-01T09:32:00.442326200Z"
    },
    "jupyter": {
     "outputs_hidden": false
    },
    "trusted": true
   },
   "execution_count": null,
   "outputs": []
  },
  {
   "cell_type": "code",
   "source": [
    "model.evaluate(X_test, y_test)"
   ],
   "metadata": {
    "collapsed": false,
    "ExecuteTime": {
     "end_time": "2023-05-01T09:32:01.768137200Z",
     "start_time": "2023-05-01T09:32:01.073139400Z"
    },
    "jupyter": {
     "outputs_hidden": false
    },
    "trusted": true
   },
   "execution_count": null,
   "outputs": []
  },
  {
   "cell_type": "code",
   "source": [
    "model.save('model_bi_lstm_trained_on_balanced_data.h5')"
   ],
   "metadata": {
    "collapsed": false,
    "ExecuteTime": {
     "end_time": "2023-05-01T09:32:01.773140700Z",
     "start_time": "2023-05-01T09:32:01.711140900Z"
    },
    "jupyter": {
     "outputs_hidden": false
    },
    "trusted": true
   },
   "execution_count": null,
   "outputs": []
  },
  {
   "cell_type": "code",
   "source": [
    "model = tk.models.load_model('../models/model_bi_lstm_trained_on_balanced_data.h5', compile=False)\n",
    "optimizer = tk.optimizers.SGD(learning_rate=1e-2, clipnorm=1.)\n",
    "model.compile(loss=\"categorical_crossentropy\",\n",
    "              optimizer=optimizer,\n",
    "              metrics=[\"accuracy\"])\n",
    "model.evaluate(X_test, y_test)"
   ],
   "metadata": {
    "ExecuteTime": {
     "end_time": "2023-05-03T08:09:54.682231100Z",
     "start_time": "2023-05-03T08:09:37.276231700Z"
    }
   },
   "execution_count": 33,
   "outputs": [
    {
     "name": "stdout",
     "output_type": "stream",
     "text": [
      "685/685 [==============================] - 15s 16ms/step - loss: 0.1415 - accuracy: 0.9674\n"
     ]
    },
    {
     "data": {
      "text/plain": "[0.14146755635738373, 0.9673853516578674]"
     },
     "execution_count": 33,
     "metadata": {},
     "output_type": "execute_result"
    }
   ]
  },
  {
   "cell_type": "code",
   "execution_count": 34,
   "outputs": [
    {
     "name": "stdout",
     "output_type": "stream",
     "text": [
      "685/685 [==============================] - 13s 16ms/step\n"
     ]
    },
    {
     "data": {
      "text/plain": "array([[17610,   264,   161,    46,    37],\n       [   89,   450,    10,     5,     2],\n       [   20,     2,  1399,    20,     7],\n       [   10,     0,    16,   135,     1],\n       [   12,     5,     7,     0,  1584]], dtype=int64)"
     },
     "execution_count": 34,
     "metadata": {},
     "output_type": "execute_result"
    }
   ],
   "source": [
    "prediction_labels = model.predict(X_test).argmax(axis=1)\n",
    "cm = confusion_matrix(test_labels, prediction_labels)\n",
    "cm"
   ],
   "metadata": {
    "collapsed": false,
    "ExecuteTime": {
     "end_time": "2023-05-03T08:10:33.527180300Z",
     "start_time": "2023-05-03T08:10:10.826652600Z"
    }
   }
  },
  {
   "cell_type": "code",
   "execution_count": 35,
   "outputs": [
    {
     "name": "stdout",
     "output_type": "stream",
     "text": [
      "                                   precision    recall  f1-score   support\n",
      "\n",
      "                           Normal       0.99      0.97      0.98     18118\n",
      "                 Artial Premature       0.62      0.81      0.70       556\n",
      "Premature ventricular contraction       0.88      0.97      0.92      1448\n",
      " Fusion of ventricular and normal       0.66      0.83      0.73       162\n",
      "       Fusion of paced and normal       0.97      0.99      0.98      1608\n",
      "\n",
      "                         accuracy                           0.97     21892\n",
      "                        macro avg       0.82      0.91      0.86     21892\n",
      "                     weighted avg       0.97      0.97      0.97     21892\n",
      "\n"
     ]
    }
   ],
   "source": [
    "print(classification_report(test_labels, prediction_labels, target_names=class_names))"
   ],
   "metadata": {
    "collapsed": false,
    "ExecuteTime": {
     "end_time": "2023-05-03T08:10:33.579184200Z",
     "start_time": "2023-05-03T08:10:33.532184600Z"
    }
   }
  },
  {
   "cell_type": "code",
   "execution_count": 36,
   "outputs": [
    {
     "data": {
      "text/plain": "<Figure size 640x480 with 2 Axes>",
      "image/png": "[encoded data removed]"
     },
     "metadata": {},
     "output_type": "display_data"
    }
   ],
   "source": [
    "disp = ConfusionMatrixDisplay(confusion_matrix=cm, display_labels=class_names)\n",
    "disp.plot();"
   ],
   "metadata": {
    "collapsed": false,
    "ExecuteTime": {
     "end_time": "2023-05-03T08:10:41.042107Z",
     "start_time": "2023-05-03T08:10:40.550112800Z"
    }
   }
  },
  {
   "cell_type": "code",
   "execution_count": null,
   "outputs": [],
   "source": [],
   "metadata": {
    "collapsed": false
   }
  }
 ]
}
